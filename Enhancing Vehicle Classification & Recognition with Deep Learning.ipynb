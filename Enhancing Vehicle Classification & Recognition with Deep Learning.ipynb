{
 "cells": [
  {
   "cell_type": "markdown",
   "id": "1225ee9a",
   "metadata": {},
   "source": [
    "## CM 3070 Final Year Project\n",
    "### Deep Learning On Public Dataset\n",
    "### Title: Enhancing Vehicle Classification & Recognition with Deep Learning"
   ]
  },
  {
   "cell_type": "markdown",
   "id": "025f3fa9",
   "metadata": {},
   "source": [
    "### 1. Project Overview"
   ]
  },
  {
   "cell_type": "markdown",
   "id": "847a7d52",
   "metadata": {},
   "source": [
    "The primary idea of this project is to develop a robust\n",
    "system that can classify and recognize vehicles in images.\n",
    "This involves two main tasks: vehicle classification and\n",
    "vehicle recognition (object detection). By combining image\n",
    "classification with object detection techniques, we aim to\n",
    "build an efficient model capable of accurately identifying\n",
    "various types of vehicles and localizing them within images."
   ]
  },
  {
   "cell_type": "markdown",
   "id": "6bd281e1",
   "metadata": {},
   "source": [
    "### 2. Problem Statement"
   ]
  },
  {
   "cell_type": "markdown",
   "id": "fdf86be0",
   "metadata": {},
   "source": [
    "In recent years, advancements in deep learning have\n",
    "revolutionized computer vision applications, particularly in\n",
    "the domain of vehicle classification and recognition. Despite\n",
    "significant progress, there remains a critical need to address\n",
    "key challenges and gaps in this field. The problem at hand\n",
    "revolves around the accuracy and efficiency of vehicle\n",
    "classification and recognition systems based on deep\n",
    "learning models."
   ]
  },
  {
   "cell_type": "code",
   "execution_count": null,
   "id": "83d6267c",
   "metadata": {},
   "outputs": [],
   "source": []
  }
 ],
 "metadata": {
  "kernelspec": {
   "display_name": "Python 3 (ipykernel)",
   "language": "python",
   "name": "python3"
  },
  "language_info": {
   "codemirror_mode": {
    "name": "ipython",
    "version": 3
   },
   "file_extension": ".py",
   "mimetype": "text/x-python",
   "name": "python",
   "nbconvert_exporter": "python",
   "pygments_lexer": "ipython3",
   "version": "3.11.4"
  }
 },
 "nbformat": 4,
 "nbformat_minor": 5
}
